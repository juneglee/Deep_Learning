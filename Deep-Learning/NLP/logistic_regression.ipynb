{
  "nbformat": 4,
  "nbformat_minor": 0,
  "metadata": {
    "colab": {
      "name": "logistic regression.ipynb",
      "provenance": []
    },
    "kernelspec": {
      "name": "python3",
      "display_name": "Python 3"
    }
  },
  "cells": [
    {
      "cell_type": "code",
      "metadata": {
        "id": "QMyKC1eTeUYz",
        "colab_type": "code",
        "colab": {}
      },
      "source": [
        "import numpy as np\n",
        "import tensorflow as tf"
      ],
      "execution_count": 1,
      "outputs": []
    },
    {
      "cell_type": "code",
      "metadata": {
        "id": "CKPFUcJyeetg",
        "colab_type": "code",
        "colab": {}
      },
      "source": [
        "x = np.array([-5, -3, -1, 1, 3, 5])\n",
        "y = np.array([0, 0, 0, 1, 1, 1])"
      ],
      "execution_count": 2,
      "outputs": []
    },
    {
      "cell_type": "code",
      "metadata": {
        "id": "uLw_juwHgWG7",
        "colab_type": "code",
        "colab": {}
      },
      "source": [
        "# cross entropy loss function\n",
        "def loss(y, predicted):\n",
        "  return tf.reduce_mean(-y*tf.math.log(predicted) - (1-y)*tf.math.log(1-predicted))"
      ],
      "execution_count": 3,
      "outputs": []
    },
    {
      "cell_type": "code",
      "metadata": {
        "id": "pQV8cvkfgxio",
        "colab_type": "code",
        "colab": {}
      },
      "source": [
        "class Model(object):\n",
        "  def __init__(self):\n",
        "    self.W = tf.Variable(-0.01)\n",
        "  \n",
        "  def __call__(self, x):\n",
        "    return 1/(1+tf.math.exp(self.W*x))"
      ],
      "execution_count": 4,
      "outputs": []
    },
    {
      "cell_type": "code",
      "metadata": {
        "id": "EMQLI0ewhKIk",
        "colab_type": "code",
        "colab": {}
      },
      "source": [
        "model = Model()"
      ],
      "execution_count": 5,
      "outputs": []
    },
    {
      "cell_type": "code",
      "metadata": {
        "id": "YqH-yuDKhLvL",
        "colab_type": "code",
        "colab": {}
      },
      "source": [
        "def train(model, inputs, outputs, learning_rate):\n",
        "  with tf.GradientTape() as t:\n",
        "    predict = model(inputs)\n",
        "    current_loss = loss(outputs, model(inputs))\n",
        "    dW = t.gradient(current_loss, model.W)\n",
        "    model.W.assign_sub(learning_rate*dW)"
      ],
      "execution_count": 6,
      "outputs": []
    },
    {
      "cell_type": "code",
      "metadata": {
        "id": "Tqd90rYUhhu7",
        "colab_type": "code",
        "colab": {
          "base_uri": "https://localhost:8080/",
          "height": 204
        },
        "outputId": "a063462e-7744-4c70-e79a-3208c7ed81d4"
      },
      "source": [
        "epochs = 10\n",
        "for epoch in range(epochs):\n",
        "  current_loss = loss(y, model(x))\n",
        "  train(model, x, y, learning_rate = 0.01)\n",
        "  print(\"epoch:%2d, W=%1.2f, loss=%2.5f\"%(epoch, model.W, current_loss))"
      ],
      "execution_count": 7,
      "outputs": [
        {
          "output_type": "stream",
          "text": [
            "epoch: 0, W=-0.02, loss=0.67829\n",
            "epoch: 1, W=-0.04, loss=0.65697\n",
            "epoch: 2, W=-0.05, loss=0.63688\n",
            "epoch: 3, W=-0.07, loss=0.61793\n",
            "epoch: 4, W=-0.08, loss=0.60006\n",
            "epoch: 5, W=-0.09, loss=0.58319\n",
            "epoch: 6, W=-0.10, loss=0.56727\n",
            "epoch: 7, W=-0.12, loss=0.55223\n",
            "epoch: 8, W=-0.13, loss=0.53801\n",
            "epoch: 9, W=-0.14, loss=0.52455\n"
          ],
          "name": "stdout"
        }
      ]
    },
    {
      "cell_type": "code",
      "metadata": {
        "id": "IawUrOuihxFx",
        "colab_type": "code",
        "colab": {}
      },
      "source": [
        ""
      ],
      "execution_count": 7,
      "outputs": []
    }
  ]
}
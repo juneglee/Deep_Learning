{
  "nbformat": 4,
  "nbformat_minor": 0,
  "metadata": {
    "colab": {
      "name": "liner_repressiong.ipynb",
      "provenance": [],
      "collapsed_sections": []
    },
    "kernelspec": {
      "name": "python3",
      "display_name": "Python 3"
    }
  },
  "cells": [
    {
      "cell_type": "code",
      "metadata": {
        "id": "co7YQHayR_E-",
        "colab_type": "code",
        "colab": {}
      },
      "source": [
        "import tensorflow as tf\n",
        "import matplotlib.pyplot as plt"
      ],
      "execution_count": 2,
      "outputs": []
    },
    {
      "cell_type": "code",
      "metadata": {
        "id": "XhedheEdSZtI",
        "colab_type": "code",
        "colab": {}
      },
      "source": [
        "# linear regression model\n",
        "class Model(object):\n",
        "  def __init__(self):\n",
        "    self.W = tf.Variable(5.0)\n",
        "    self.b = tf.Variable(0.0)\n",
        "\n",
        "  def __call__(self, x):\n",
        "    return self.W * x + self.b"
      ],
      "execution_count": 3,
      "outputs": []
    },
    {
      "cell_type": "code",
      "metadata": {
        "id": "al8CLE0NS5Pe",
        "colab_type": "code",
        "colab": {}
      },
      "source": [
        "# MSE : Mean Squared Error\n",
        "def loss_function(y, predicted):\n",
        "  return tf.reduce_mean(tf.square(predicted - y))"
      ],
      "execution_count": 8,
      "outputs": []
    },
    {
      "cell_type": "code",
      "metadata": {
        "id": "FNxzTHAqUAj8",
        "colab_type": "code",
        "colab": {}
      },
      "source": [
        "model = Model()"
      ],
      "execution_count": 9,
      "outputs": []
    },
    {
      "cell_type": "code",
      "metadata": {
        "id": "h5s1pygNTXVO",
        "colab_type": "code",
        "colab": {
          "base_uri": "https://localhost:8080/",
          "height": 265
        },
        "outputId": "01b47009-4fdf-4940-d0e7-eb6a0b60d149"
      },
      "source": [
        "true_w = 3.0\n",
        "true_b = 2.0\n",
        "examples = 1000\n",
        "\n",
        "inputs = tf.random.normal(shape=[examples])\n",
        "noise = tf.random.normal(shape=[examples])\n",
        "outputs = inputs* true_w + true_b + noise\n",
        "\n",
        "plt.scatter(inputs, outputs, c = 'b') # y\n",
        "plt.scatter(inputs, model(inputs), c='r') # H(x)\n",
        "plt.show()"
      ],
      "execution_count": 10,
      "outputs": [
        {
          "output_type": "display_data",
          "data": {
            "image/png": "[encoded data removed]",
            "text/plain": [
              "<Figure size 432x288 with 1 Axes>"
            ]
          },
          "metadata": {
            "tags": [],
            "needs_background": "light"
          }
        }
      ]
    },
    {
      "cell_type": "code",
      "metadata": {
        "id": "wkMYGFJwUSN-",
        "colab_type": "code",
        "colab": {
          "base_uri": "https://localhost:8080/",
          "height": 35
        },
        "outputId": "1f6da854-fe4a-4124-f184-41f7d701748c"
      },
      "source": [
        "loss = loss_function(outputs, model(inputs))\n",
        "print(loss)"
      ],
      "execution_count": 11,
      "outputs": [
        {
          "output_type": "stream",
          "text": [
            "tf.Tensor(9.311225, shape=(), dtype=float32)\n"
          ],
          "name": "stdout"
        }
      ]
    },
    {
      "cell_type": "code",
      "metadata": {
        "id": "8FZI4ZbzUr6E",
        "colab_type": "code",
        "colab": {
          "base_uri": "https://localhost:8080/",
          "height": 287
        },
        "outputId": "d85a4c88-0be5-4a26-865a-5635486caae0"
      },
      "source": [
        "def train(model, inputs, outputs, learning_rate):\n",
        "  with tf.GradientTape() as t:\n",
        "    current_loss = loss_function(outputs, model(inputs))\n",
        "  dW, db = t.gradient(current_loss, [model.W, model.b])\n",
        "  model.W.assign_sub(learning_rate*dW)\n",
        "  model.b.assign_sub(learning_rate*db)\n",
        "\n",
        "Ws, bs = [], [] # plot\n",
        "epochs = 15\n",
        "for epoch in range(epochs):\n",
        "  Ws.append(model.W.numpy())\n",
        "  bs.append(model.b.numpy())\n",
        "  current_loss = loss_function(model(inputs), outputs)\n",
        "\n",
        "  train(model, inputs, outputs, learning_rate=0.1)\n",
        "  print('epoch: %2d, W=%1.2f, b=%1.2f, loss=%2.5f'%(epoch, Ws[-1], bs[-1], current_loss))"
      ],
      "execution_count": 16,
      "outputs": [
        {
          "output_type": "stream",
          "text": [
            "epoch:  0, W=5.00, b=0.00, loss=9.31122\n",
            "epoch:  1, W=4.57, b=0.42, loss=6.12203\n",
            "epoch:  2, W=4.24, b=0.75, loss=4.14895\n",
            "epoch:  3, W=3.98, b=1.01, loss=2.92796\n",
            "epoch:  4, W=3.78, b=1.22, loss=2.17221\n",
            "epoch:  5, W=3.62, b=1.39, loss=1.70430\n",
            "epoch:  6, W=3.50, b=1.52, loss=1.41454\n",
            "epoch:  7, W=3.40, b=1.62, loss=1.23505\n",
            "epoch:  8, W=3.33, b=1.71, loss=1.12383\n",
            "epoch:  9, W=3.27, b=1.77, loss=1.05490\n",
            "epoch: 10, W=3.22, b=1.82, loss=1.01216\n",
            "epoch: 11, W=3.19, b=1.86, loss=0.98566\n",
            "epoch: 12, W=3.16, b=1.90, loss=0.96922\n",
            "epoch: 13, W=3.14, b=1.92, loss=0.95901\n",
            "epoch: 14, W=3.12, b=1.94, loss=0.95268\n"
          ],
          "name": "stdout"
        }
      ]
    },
    {
      "cell_type": "code",
      "metadata": {
        "id": "2dJ5xcpSWd9q",
        "colab_type": "code",
        "colab": {
          "base_uri": "https://localhost:8080/",
          "height": 265
        },
        "outputId": "fdbc3418-4bed-4f39-f86b-c878fef80003"
      },
      "source": [
        "plt.plot(range(epochs), Ws, 'r', range(epochs), bs, 'b')\n",
        "plt.show()"
      ],
      "execution_count": 17,
      "outputs": [
        {
          "output_type": "display_data",
          "data": {
            "image/png": "[encoded data removed]",
            "text/plain": [
              "<Figure size 432x288 with 1 Axes>"
            ]
          },
          "metadata": {
            "tags": [],
            "needs_background": "light"
          }
        }
      ]
    }
  ]
}
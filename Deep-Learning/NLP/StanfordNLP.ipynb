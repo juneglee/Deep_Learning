{
  "nbformat": 4,
  "nbformat_minor": 0,
  "metadata": {
    "colab": {
      "name": "StanfordNLP.ipynb",
      "provenance": []
    },
    "kernelspec": {
      "name": "python3",
      "display_name": "Python 3"
    }
  },
  "cells": [
    {
      "cell_type": "code",
      "metadata": {
        "id": "EQPm_g3871VJ",
        "colab_type": "code",
        "colab": {
          "base_uri": "https://localhost:8080/",
          "height": 355
        },
        "outputId": "dcca7001-cb81-4756-dd66-f6bc50f567f9"
      },
      "source": [
        "!pip install stanza"
      ],
      "execution_count": 1,
      "outputs": [
        {
          "output_type": "stream",
          "text": [
            "Collecting stanza\n",
            "\u001b[?25l  Downloading https://files.pythonhosted.org/packages/e7/8b/3a9e7a8d8cb14ad6afffc3983b7a7322a3a24d94ebc978a70746fcffc085/stanza-1.1.1-py3-none-any.whl (227kB)\n",
            "\u001b[K     |████████████████████████████████| 235kB 283kB/s \n",
            "\u001b[?25hRequirement already satisfied: tqdm in /usr/local/lib/python3.6/dist-packages (from stanza) (4.41.1)\n",
            "Requirement already satisfied: torch>=1.3.0 in /usr/local/lib/python3.6/dist-packages (from stanza) (1.6.0+cu101)\n",
            "Requirement already satisfied: requests in /usr/local/lib/python3.6/dist-packages (from stanza) (2.23.0)\n",
            "Requirement already satisfied: protobuf in /usr/local/lib/python3.6/dist-packages (from stanza) (3.12.4)\n",
            "Requirement already satisfied: numpy in /usr/local/lib/python3.6/dist-packages (from stanza) (1.18.5)\n",
            "Requirement already satisfied: future in /usr/local/lib/python3.6/dist-packages (from torch>=1.3.0->stanza) (0.16.0)\n",
            "Requirement already satisfied: certifi>=2017.4.17 in /usr/local/lib/python3.6/dist-packages (from requests->stanza) (2020.6.20)\n",
            "Requirement already satisfied: chardet<4,>=3.0.2 in /usr/local/lib/python3.6/dist-packages (from requests->stanza) (3.0.4)\n",
            "Requirement already satisfied: idna<3,>=2.5 in /usr/local/lib/python3.6/dist-packages (from requests->stanza) (2.10)\n",
            "Requirement already satisfied: urllib3!=1.25.0,!=1.25.1,<1.26,>=1.21.1 in /usr/local/lib/python3.6/dist-packages (from requests->stanza) (1.24.3)\n",
            "Requirement already satisfied: six>=1.9 in /usr/local/lib/python3.6/dist-packages (from protobuf->stanza) (1.15.0)\n",
            "Requirement already satisfied: setuptools in /usr/local/lib/python3.6/dist-packages (from protobuf->stanza) (49.6.0)\n",
            "Installing collected packages: stanza\n",
            "Successfully installed stanza-1.1.1\n"
          ],
          "name": "stdout"
        }
      ]
    },
    {
      "cell_type": "code",
      "metadata": {
        "id": "-zdQqy9O7-EN",
        "colab_type": "code",
        "colab": {
          "base_uri": "https://localhost:8080/",
          "height": 92
        },
        "outputId": "8406818d-c4c6-4cdc-9ab7-813215f9f677"
      },
      "source": [
        "import stanza\n",
        "stanza.download('en')"
      ],
      "execution_count": 2,
      "outputs": [
        {
          "output_type": "stream",
          "text": [
            "Downloading https://raw.githubusercontent.com/stanfordnlp/stanza-resources/master/resources_1.1.0.json: 122kB [00:00, 15.0MB/s]                    \n",
            "2020-09-14 00:07:32 INFO: Downloading default packages for language: en (English)...\n",
            "Downloading http://nlp.stanford.edu/software/stanza/1.1.0/en/default.zip: 100%|██████████| 428M/428M [24:00<00:00, 297kB/s]\n",
            "2020-09-14 00:31:40 INFO: Finished downloading models and saved to /root/stanza_resources.\n"
          ],
          "name": "stderr"
        }
      ]
    },
    {
      "cell_type": "code",
      "metadata": {
        "id": "T4z69MO28B2X",
        "colab_type": "code",
        "colab": {
          "base_uri": "https://localhost:8080/",
          "height": 391
        },
        "outputId": "1035a68e-79f6-4454-9ee7-3ea8c4d9819f"
      },
      "source": [
        "# initialization\n",
        "en_nlp = stanza.Pipeline('en')"
      ],
      "execution_count": 3,
      "outputs": [
        {
          "output_type": "stream",
          "text": [
            "2020-09-14 00:31:41 INFO: Loading these models for language: en (English):\n",
            "=========================\n",
            "| Processor | Package   |\n",
            "-------------------------\n",
            "| tokenize  | ewt       |\n",
            "| pos       | ewt       |\n",
            "| lemma     | ewt       |\n",
            "| depparse  | ewt       |\n",
            "| sentiment | sstplus   |\n",
            "| ner       | ontonotes |\n",
            "=========================\n",
            "\n",
            "2020-09-14 00:31:41 INFO: Use device: cpu\n",
            "2020-09-14 00:31:41 INFO: Loading: tokenize\n",
            "2020-09-14 00:31:41 INFO: Loading: pos\n",
            "2020-09-14 00:31:42 INFO: Loading: lemma\n",
            "2020-09-14 00:31:42 INFO: Loading: depparse\n",
            "2020-09-14 00:31:43 INFO: Loading: sentiment\n",
            "2020-09-14 00:31:45 INFO: Loading: ner\n",
            "2020-09-14 00:31:46 INFO: Done loading processors!\n"
          ],
          "name": "stderr"
        }
      ]
    },
    {
      "cell_type": "code",
      "metadata": {
        "id": "KSUPFUAz8Ub-",
        "colab_type": "code",
        "colab": {}
      },
      "source": [
        "result = en_nlp('Barack Obama was born in Hawaii.')"
      ],
      "execution_count": 4,
      "outputs": []
    },
    {
      "cell_type": "code",
      "metadata": {
        "id": "ZBwghiZ08Zfi",
        "colab_type": "code",
        "colab": {
          "base_uri": "https://localhost:8080/",
          "height": 1000
        },
        "outputId": "9494194e-e8ae-453b-c93d-a005d239c933"
      },
      "source": [
        "print(result)"
      ],
      "execution_count": 5,
      "outputs": [
        {
          "output_type": "stream",
          "text": [
            "[\n",
            "  [\n",
            "    {\n",
            "      \"id\": 1,\n",
            "      \"text\": \"Barack\",\n",
            "      \"lemma\": \"Barack\",\n",
            "      \"upos\": \"PROPN\",\n",
            "      \"xpos\": \"NNP\",\n",
            "      \"feats\": \"Number=Sing\",\n",
            "      \"head\": 4,\n",
            "      \"deprel\": \"nsubj:pass\",\n",
            "      \"misc\": \"start_char=0|end_char=6\",\n",
            "      \"ner\": \"B-PERSON\"\n",
            "    },\n",
            "    {\n",
            "      \"id\": 2,\n",
            "      \"text\": \"Obama\",\n",
            "      \"lemma\": \"Obama\",\n",
            "      \"upos\": \"PROPN\",\n",
            "      \"xpos\": \"NNP\",\n",
            "      \"feats\": \"Number=Sing\",\n",
            "      \"head\": 1,\n",
            "      \"deprel\": \"flat\",\n",
            "      \"misc\": \"start_char=7|end_char=12\",\n",
            "      \"ner\": \"E-PERSON\"\n",
            "    },\n",
            "    {\n",
            "      \"id\": 3,\n",
            "      \"text\": \"was\",\n",
            "      \"lemma\": \"be\",\n",
            "      \"upos\": \"AUX\",\n",
            "      \"xpos\": \"VBD\",\n",
            "      \"feats\": \"Mood=Ind|Number=Sing|Person=3|Tense=Past|VerbForm=Fin\",\n",
            "      \"head\": 4,\n",
            "      \"deprel\": \"aux:pass\",\n",
            "      \"misc\": \"start_char=13|end_char=16\",\n",
            "      \"ner\": \"O\"\n",
            "    },\n",
            "    {\n",
            "      \"id\": 4,\n",
            "      \"text\": \"born\",\n",
            "      \"lemma\": \"bear\",\n",
            "      \"upos\": \"VERB\",\n",
            "      \"xpos\": \"VBN\",\n",
            "      \"feats\": \"Tense=Past|VerbForm=Part|Voice=Pass\",\n",
            "      \"head\": 0,\n",
            "      \"deprel\": \"root\",\n",
            "      \"misc\": \"start_char=17|end_char=21\",\n",
            "      \"ner\": \"O\"\n",
            "    },\n",
            "    {\n",
            "      \"id\": 5,\n",
            "      \"text\": \"in\",\n",
            "      \"lemma\": \"in\",\n",
            "      \"upos\": \"ADP\",\n",
            "      \"xpos\": \"IN\",\n",
            "      \"head\": 6,\n",
            "      \"deprel\": \"case\",\n",
            "      \"misc\": \"start_char=22|end_char=24\",\n",
            "      \"ner\": \"O\"\n",
            "    },\n",
            "    {\n",
            "      \"id\": 6,\n",
            "      \"text\": \"Hawaii\",\n",
            "      \"lemma\": \"Hawaii\",\n",
            "      \"upos\": \"PROPN\",\n",
            "      \"xpos\": \"NNP\",\n",
            "      \"feats\": \"Number=Sing\",\n",
            "      \"head\": 4,\n",
            "      \"deprel\": \"obl\",\n",
            "      \"misc\": \"start_char=25|end_char=31\",\n",
            "      \"ner\": \"S-GPE\"\n",
            "    },\n",
            "    {\n",
            "      \"id\": 7,\n",
            "      \"text\": \".\",\n",
            "      \"lemma\": \".\",\n",
            "      \"upos\": \"PUNCT\",\n",
            "      \"xpos\": \".\",\n",
            "      \"head\": 4,\n",
            "      \"deprel\": \"punct\",\n",
            "      \"misc\": \"start_char=31|end_char=32\",\n",
            "      \"ner\": \"O\"\n",
            "    }\n",
            "  ]\n",
            "]\n"
          ],
          "name": "stdout"
        }
      ]
    },
    {
      "cell_type": "code",
      "metadata": {
        "id": "k2lKeVSoBn-q",
        "colab_type": "code",
        "colab": {}
      },
      "source": [
        ""
      ],
      "execution_count": null,
      "outputs": []
    }
  ]
}
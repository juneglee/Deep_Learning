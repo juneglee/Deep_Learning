{
  "nbformat": 4,
  "nbformat_minor": 0,
  "metadata": {
    "colab": {
      "name": "lstm_classification.ipynb",
      "provenance": []
    },
    "kernelspec": {
      "name": "python3",
      "display_name": "Python 3"
    }
  },
  "cells": [
    {
      "cell_type": "code",
      "metadata": {
        "id": "Ynp0vgWrVgzV",
        "colab_type": "code",
        "colab": {
          "base_uri": "https://localhost:8080/",
          "height": 128
        },
        "outputId": "29ae570b-f78c-4bd8-a7f2-c78ef4d43950"
      },
      "source": [
        "from google.colab import drive\n",
        "drive.mount('/content/drive')"
      ],
      "execution_count": 1,
      "outputs": [
        {
          "output_type": "stream",
          "text": [
            "Go to this URL in a browser: https://accounts.google.com/o/oauth2/auth?client_id=947318989803-6bn6qk8qdgf4n4g3pfee6491hc0brc4i.apps.googleusercontent.com&redirect_uri=urn%3aietf%3awg%3aoauth%3a2.0%3aoob&scope=email%20https%3a%2f%2fwww.googleapis.com%2fauth%2fdocs.test%20https%3a%2f%2fwww.googleapis.com%2fauth%2fdrive%20https%3a%2f%2fwww.googleapis.com%2fauth%2fdrive.photos.readonly%20https%3a%2f%2fwww.googleapis.com%2fauth%2fpeopleapi.readonly&response_type=code\n",
            "\n",
            "Enter your authorization code:\n",
            "4/4AHomilvTgLFwZ8ByuU0LJ2y8UIzeOYMA0iwv970Kc2BphoQyiw2NSU\n",
            "Mounted at /content/drive\n"
          ],
          "name": "stdout"
        }
      ]
    },
    {
      "cell_type": "code",
      "metadata": {
        "id": "8JSiDIsxWvsq",
        "colab_type": "code",
        "colab": {}
      },
      "source": [
        "label_dic = {}\n",
        "train_texts, train_labels = [], []\n",
        "test_texts, test_labels = [], []\n",
        "\n",
        "with open('/content/drive/My Drive/Colab Notebooks/data/news_sample/train.tsv', 'r', encoding='utf-8') as fr:\n",
        "  lines = fr.readlines()\n",
        "  for line in lines:\n",
        "    line = line.strip().split('\\t')\n",
        "    label = line[1]\n",
        "    title = line[3]\n",
        "    content = line[4]\n",
        "    \n",
        "    if label not in label_dic.keys():\n",
        "      label_dic[label] = len(label_dic)\n",
        "\n",
        "    train_texts.append(title + '\\n' + content)\n",
        "    train_labels.append(label_dic[label])\n",
        "\n",
        "with open('/content/drive/My Drive/Colab Notebooks/data/news_sample/test.tsv', 'r', encoding='utf-8') as fr:\n",
        "  lines = fr.readlines()\n",
        "  for line in lines:\n",
        "    line = line.strip().split('\\t')\n",
        "    label = line[1]\n",
        "    title = line[3]\n",
        "    content = line[4]\n",
        "  \n",
        "    test_texts.append(title + '\\n' + content)\n",
        "    test_labels.append(label_dic[label])"
      ],
      "execution_count": 3,
      "outputs": []
    },
    {
      "cell_type": "code",
      "metadata": {
        "id": "sY4lnbsZXJXu",
        "colab_type": "code",
        "colab": {
          "base_uri": "https://localhost:8080/",
          "height": 35
        },
        "outputId": "55356617-d845-49bf-e419-aaca1ebf5f5a"
      },
      "source": [
        "print(label_dic)"
      ],
      "execution_count": 4,
      "outputs": [
        {
          "output_type": "stream",
          "text": [
            "{'IT과학': 0, '정치': 1, 'economy': 2}\n"
          ],
          "name": "stdout"
        }
      ]
    },
    {
      "cell_type": "code",
      "metadata": {
        "id": "CbVAO6SPZtLG",
        "colab_type": "code",
        "colab": {
          "base_uri": "https://localhost:8080/",
          "height": 72
        },
        "outputId": "b4eadcc3-e6be-43ee-8576-0a487cac08a8"
      },
      "source": [
        "import nltk\n",
        "from nltk.tokenize import sent_tokenize\n",
        "from nltk import WordPunctTokenizer\n",
        "\n",
        "import numpy as np\n",
        "import tensorflow as tf\n",
        "\n",
        "nltk.download('punkt')"
      ],
      "execution_count": 10,
      "outputs": [
        {
          "output_type": "stream",
          "text": [
            "[nltk_data] Downloading package punkt to /root/nltk_data...\n",
            "[nltk_data]   Package punkt is already up-to-date!\n"
          ],
          "name": "stdout"
        },
        {
          "output_type": "execute_result",
          "data": {
            "text/plain": [
              "True"
            ]
          },
          "metadata": {
            "tags": []
          },
          "execution_count": 10
        }
      ]
    },
    {
      "cell_type": "code",
      "metadata": {
        "id": "vZOTHCscZD0x",
        "colab_type": "code",
        "colab": {}
      },
      "source": [
        "class Tokenizer:\n",
        "\n",
        "  def make_vocab(self, documents):\n",
        "    for document in documents:\n",
        "      tokens = self.tokenize(document)\n",
        "      word2index = {'<unk>':0}\n",
        "      for voca in tokens:\n",
        "        if voca not in word2index.keys():\n",
        "          word2index[voca] = len(word2index)\n",
        "    self.vocab = word2index\n",
        "\n",
        "  def tokenize(self, document):\n",
        "    words = []\n",
        "    sentences = sent_tokenize(document)\n",
        "\n",
        "    for sentence in sentences:\n",
        "      words.extend(WordPunctTokenizer().tokenize(sentence))\n",
        "\n",
        "    return words\n",
        "\n",
        "  def one_hot_encoding(self, word):\n",
        "    one_hot_vector = [0] * len(self.vocab)\n",
        "    if word not in self.vocab:\n",
        "      word = '<unk>'\n",
        "    index = self.vocab[word]\n",
        "    one_hot_vector[index] = 1\n",
        "    return one_hot_vector\n",
        "  \n",
        "  def get_vector(self, sentence):\n",
        "    tokens = self.tokenize(sentence)\n",
        "    vector = [self.one_hot_encoding(token) for token in tokens]\n",
        "\n",
        "    while len(vector) < 256:\n",
        "      vector.append([0] * len(self.vocab))\n",
        "    \n",
        "    return vector[:256]"
      ],
      "execution_count": 11,
      "outputs": []
    },
    {
      "cell_type": "code",
      "metadata": {
        "id": "HkTffdERbqf1",
        "colab_type": "code",
        "colab": {}
      },
      "source": [
        "tokenizer = Tokenizer()\n",
        "tokenizer.make_vocab(train_texts)"
      ],
      "execution_count": 12,
      "outputs": []
    },
    {
      "cell_type": "code",
      "metadata": {
        "id": "Vma17_3BcGW9",
        "colab_type": "code",
        "colab": {
          "base_uri": "https://localhost:8080/",
          "height": 34
        },
        "outputId": "6d49962b-0dfb-436d-f257-8ae34bcc1bdc"
      },
      "source": [
        "x_train = np.array([tokenizer.get_vector(text) for text in train_texts])\n",
        "x_test = np.array([tokenizer.get_vector(text) for text in test_texts])\n",
        "\n",
        "y_train = np.array(train_labels)\n",
        "y_test = np.array(test_labels)\n",
        "\n",
        "print(x_train.shape, x_test.shape)"
      ],
      "execution_count": 16,
      "outputs": [
        {
          "output_type": "stream",
          "text": [
            "(450, 256, 340) (50, 256, 340)\n"
          ],
          "name": "stdout"
        }
      ]
    },
    {
      "cell_type": "code",
      "metadata": {
        "id": "FBlzP1UOcvVG",
        "colab_type": "code",
        "colab": {}
      },
      "source": [
        "model = tf.keras.models.Sequential()\n",
        "model.add(tf.keras.layers.Input(shape=(x_train.shape[1], x_train.shape[2])))\n",
        "model.add(tf.keras.layers.Bidirectional(tf.keras.layers.LSTM(128)))\n",
        "model.add(tf.keras.layers.Dense(64, activation = 'relu'))\n",
        "model.add(tf.keras.layers.Dense(3, activation = 'softmax'))"
      ],
      "execution_count": 19,
      "outputs": []
    },
    {
      "cell_type": "code",
      "metadata": {
        "id": "jEgxpT-odfTY",
        "colab_type": "code",
        "colab": {
          "base_uri": "https://localhost:8080/",
          "height": 263
        },
        "outputId": "dca30097-7c68-455c-e9a7-08250fbc11e8"
      },
      "source": [
        "model.summary()"
      ],
      "execution_count": 20,
      "outputs": [
        {
          "output_type": "stream",
          "text": [
            "Model: \"sequential_1\"\n",
            "_________________________________________________________________\n",
            "Layer (type)                 Output Shape              Param #   \n",
            "=================================================================\n",
            "bidirectional_1 (Bidirection (None, 256)               480256    \n",
            "_________________________________________________________________\n",
            "dense (Dense)                (None, 64)                16448     \n",
            "_________________________________________________________________\n",
            "dense_1 (Dense)              (None, 3)                 195       \n",
            "=================================================================\n",
            "Total params: 496,899\n",
            "Trainable params: 496,899\n",
            "Non-trainable params: 0\n",
            "_________________________________________________________________\n"
          ],
          "name": "stdout"
        }
      ]
    },
    {
      "cell_type": "code",
      "metadata": {
        "id": "HbVZdz8Pdpv4",
        "colab_type": "code",
        "colab": {}
      },
      "source": [
        "model.compile(optimizer='adam', loss='sparse_categorical_crossentropy', metrics=['accuracy'])"
      ],
      "execution_count": 21,
      "outputs": []
    },
    {
      "cell_type": "code",
      "metadata": {
        "id": "3j2LFffudxa0",
        "colab_type": "code",
        "colab": {
          "base_uri": "https://localhost:8080/",
          "height": 228
        },
        "outputId": "ea766a46-46de-4507-9a79-480d054434ab"
      },
      "source": [
        "model.fit(x_train, y_train, epochs=20)"
      ],
      "execution_count": null,
      "outputs": [
        {
          "output_type": "stream",
          "text": [
            "Epoch 1/20\n",
            "15/15 [==============================] - 11s 725ms/step - loss: 1.0685 - accuracy: 0.4267\n",
            "Epoch 2/20\n",
            "15/15 [==============================] - 11s 715ms/step - loss: 1.0414 - accuracy: 0.4511\n",
            "Epoch 3/20\n",
            "15/15 [==============================] - 11s 713ms/step - loss: 1.0290 - accuracy: 0.4556\n",
            "Epoch 4/20\n",
            "15/15 [==============================] - 11s 719ms/step - loss: 1.0242 - accuracy: 0.4911\n",
            "Epoch 5/20\n",
            "15/15 [==============================] - 11s 712ms/step - loss: 0.9949 - accuracy: 0.4911\n",
            "Epoch 6/20\n",
            "14/15 [===========================>..] - ETA: 0s - loss: 0.9684 - accuracy: 0.5357"
          ],
          "name": "stdout"
        }
      ]
    },
    {
      "cell_type": "code",
      "metadata": {
        "id": "pU8cxxLrd1X7",
        "colab_type": "code",
        "colab": {}
      },
      "source": [
        "model.evaluate(x_test, y_test, verbose=2)"
      ],
      "execution_count": null,
      "outputs": []
    },
    {
      "cell_type": "code",
      "metadata": {
        "id": "Vw7STqcad9Yr",
        "colab_type": "code",
        "colab": {}
      },
      "source": [
        ""
      ],
      "execution_count": null,
      "outputs": []
    }
  ]
}